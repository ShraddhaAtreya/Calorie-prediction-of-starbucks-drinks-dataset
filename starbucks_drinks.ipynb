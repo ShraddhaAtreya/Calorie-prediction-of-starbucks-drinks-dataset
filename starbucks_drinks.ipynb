{
  "nbformat": 4,
  "nbformat_minor": 0,
  "metadata": {
    "colab": {
      "provenance": [],
      "include_colab_link": true
    },
    "kernelspec": {
      "name": "python3",
      "display_name": "Python 3"
    },
    "language_info": {
      "name": "python"
    }
  },
  "cells": [
    {
      "cell_type": "markdown",
      "metadata": {
        "id": "view-in-github",
        "colab_type": "text"
      },
      "source": [
        "<a href=\"https://colab.research.google.com/github/ShraddhaAtreya/Calorie-prediction-of-starbucks-drinks-dataset/blob/main/starbucks_drinks.ipynb\" target=\"_parent\"><img src=\"https://colab.research.google.com/assets/colab-badge.svg\" alt=\"Open In Colab\"/></a>"
      ]
    },
    {
      "cell_type": "code",
      "execution_count": null,
      "metadata": {
        "colab": {
          "base_uri": "https://localhost:8080/"
        },
        "id": "BxPgaCOejJrs",
        "outputId": "754cc3ad-012a-4162-b640-6853a9e41345"
      },
      "outputs": [
        {
          "output_type": "stream",
          "name": "stdout",
          "text": [
            "Collecting pyspark\n",
            "  Downloading pyspark-3.5.1.tar.gz (317.0 MB)\n",
            "\u001b[2K     \u001b[90m━━━━━━━━━━━━━━━━━━━━━━━━━━━━━━━━━━━━━━━━\u001b[0m \u001b[32m317.0/317.0 MB\u001b[0m \u001b[31m1.6 MB/s\u001b[0m eta \u001b[36m0:00:00\u001b[0m\n",
            "\u001b[?25h  Preparing metadata (setup.py) ... \u001b[?25l\u001b[?25hdone\n",
            "Requirement already satisfied: py4j==0.10.9.7 in /usr/local/lib/python3.10/dist-packages (from pyspark) (0.10.9.7)\n",
            "Building wheels for collected packages: pyspark\n",
            "  Building wheel for pyspark (setup.py) ... \u001b[?25l\u001b[?25hdone\n",
            "  Created wheel for pyspark: filename=pyspark-3.5.1-py2.py3-none-any.whl size=317488491 sha256=2656a140500e5e6eda0002938a4ca947b481d7bf90ddb23da40c1fa4f62c4574\n",
            "  Stored in directory: /root/.cache/pip/wheels/80/1d/60/2c256ed38dddce2fdd93be545214a63e02fbd8d74fb0b7f3a6\n",
            "Successfully built pyspark\n",
            "Installing collected packages: pyspark\n",
            "Successfully installed pyspark-3.5.1\n"
          ]
        }
      ],
      "source": [
        "!pip install pyspark"
      ]
    },
    {
      "cell_type": "code",
      "source": [
        "from pyspark.sql import SparkSession\n",
        "spark = SparkSession.builder.getOrCreate()\n",
        "df = spark.read.csv('/content/sample_data/starbucks-menu-nutrition-drinks2.csv',header = True, inferSchema = True)\n",
        "df.printSchema()"
      ],
      "metadata": {
        "id": "YD-ajfYYjPxT",
        "colab": {
          "base_uri": "https://localhost:8080/"
        },
        "outputId": "57c7f3f2-9fe0-48f4-b1c8-8c91d8111275"
      },
      "execution_count": null,
      "outputs": [
        {
          "output_type": "stream",
          "name": "stdout",
          "text": [
            "root\n",
            " |-- c0: string (nullable = true)\n",
            " |-- Calories: string (nullable = true)\n",
            " |-- Fat (g): string (nullable = true)\n",
            " |-- Carb (g): string (nullable = true)\n",
            " |-- Fiber (g): string (nullable = true)\n",
            " |-- Protein: string (nullable = true)\n",
            " |-- Sodium: string (nullable = true)\n",
            "\n"
          ]
        }
      ]
    },
    {
      "cell_type": "code",
      "source": [
        "import pandas as pd\n",
        "pd.DataFrame(df.take(5), columns=df.columns)"
      ],
      "metadata": {
        "colab": {
          "base_uri": "https://localhost:8080/",
          "height": 206
        },
        "id": "SKiehZxs5rF8",
        "outputId": "6698f809-3577-4154-f2cb-41cdff2891d8"
      },
      "execution_count": null,
      "outputs": [
        {
          "output_type": "execute_result",
          "data": {
            "text/plain": [
              "                                               c0 Calories Fat (g) Carb (g)  \\\n",
              "0            Cool Lime Starbucks Refreshers��� Be       45       0       11   \n",
              "1                                   Ombr�� Pink D        -       -        -   \n",
              "2                                      Pink Drink        -       -        -   \n",
              "3      Strawberry Acai Starbucks Refreshers��� Be       80       0       18   \n",
              "4  Very Berry Hibiscus Starbucks Refreshers��� Be       60       0       14   \n",
              "\n",
              "  Fiber (g) Protein Sodium  \n",
              "0         0       0     10  \n",
              "1         -       -      -  \n",
              "2         -       -      -  \n",
              "3         1       0     10  \n",
              "4         1       0     10  "
            ],
            "text/html": [
              "\n",
              "  <div id=\"df-c657c6b4-9e7e-4df7-b474-fdb6998d0325\" class=\"colab-df-container\">\n",
              "    <div>\n",
              "<style scoped>\n",
              "    .dataframe tbody tr th:only-of-type {\n",
              "        vertical-align: middle;\n",
              "    }\n",
              "\n",
              "    .dataframe tbody tr th {\n",
              "        vertical-align: top;\n",
              "    }\n",
              "\n",
              "    .dataframe thead th {\n",
              "        text-align: right;\n",
              "    }\n",
              "</style>\n",
              "<table border=\"1\" class=\"dataframe\">\n",
              "  <thead>\n",
              "    <tr style=\"text-align: right;\">\n",
              "      <th></th>\n",
              "      <th>c0</th>\n",
              "      <th>Calories</th>\n",
              "      <th>Fat (g)</th>\n",
              "      <th>Carb (g)</th>\n",
              "      <th>Fiber (g)</th>\n",
              "      <th>Protein</th>\n",
              "      <th>Sodium</th>\n",
              "    </tr>\n",
              "  </thead>\n",
              "  <tbody>\n",
              "    <tr>\n",
              "      <th>0</th>\n",
              "      <td>Cool Lime Starbucks Refreshers��� Be</td>\n",
              "      <td>45</td>\n",
              "      <td>0</td>\n",
              "      <td>11</td>\n",
              "      <td>0</td>\n",
              "      <td>0</td>\n",
              "      <td>10</td>\n",
              "    </tr>\n",
              "    <tr>\n",
              "      <th>1</th>\n",
              "      <td>Ombr�� Pink D</td>\n",
              "      <td>-</td>\n",
              "      <td>-</td>\n",
              "      <td>-</td>\n",
              "      <td>-</td>\n",
              "      <td>-</td>\n",
              "      <td>-</td>\n",
              "    </tr>\n",
              "    <tr>\n",
              "      <th>2</th>\n",
              "      <td>Pink Drink</td>\n",
              "      <td>-</td>\n",
              "      <td>-</td>\n",
              "      <td>-</td>\n",
              "      <td>-</td>\n",
              "      <td>-</td>\n",
              "      <td>-</td>\n",
              "    </tr>\n",
              "    <tr>\n",
              "      <th>3</th>\n",
              "      <td>Strawberry Acai Starbucks Refreshers��� Be</td>\n",
              "      <td>80</td>\n",
              "      <td>0</td>\n",
              "      <td>18</td>\n",
              "      <td>1</td>\n",
              "      <td>0</td>\n",
              "      <td>10</td>\n",
              "    </tr>\n",
              "    <tr>\n",
              "      <th>4</th>\n",
              "      <td>Very Berry Hibiscus Starbucks Refreshers��� Be</td>\n",
              "      <td>60</td>\n",
              "      <td>0</td>\n",
              "      <td>14</td>\n",
              "      <td>1</td>\n",
              "      <td>0</td>\n",
              "      <td>10</td>\n",
              "    </tr>\n",
              "  </tbody>\n",
              "</table>\n",
              "</div>\n",
              "    <div class=\"colab-df-buttons\">\n",
              "\n",
              "  <div class=\"colab-df-container\">\n",
              "    <button class=\"colab-df-convert\" onclick=\"convertToInteractive('df-c657c6b4-9e7e-4df7-b474-fdb6998d0325')\"\n",
              "            title=\"Convert this dataframe to an interactive table.\"\n",
              "            style=\"display:none;\">\n",
              "\n",
              "  <svg xmlns=\"http://www.w3.org/2000/svg\" height=\"24px\" viewBox=\"0 -960 960 960\">\n",
              "    <path d=\"M120-120v-720h720v720H120Zm60-500h600v-160H180v160Zm220 220h160v-160H400v160Zm0 220h160v-160H400v160ZM180-400h160v-160H180v160Zm440 0h160v-160H620v160ZM180-180h160v-160H180v160Zm440 0h160v-160H620v160Z\"/>\n",
              "  </svg>\n",
              "    </button>\n",
              "\n",
              "  <style>\n",
              "    .colab-df-container {\n",
              "      display:flex;\n",
              "      gap: 12px;\n",
              "    }\n",
              "\n",
              "    .colab-df-convert {\n",
              "      background-color: #E8F0FE;\n",
              "      border: none;\n",
              "      border-radius: 50%;\n",
              "      cursor: pointer;\n",
              "      display: none;\n",
              "      fill: #1967D2;\n",
              "      height: 32px;\n",
              "      padding: 0 0 0 0;\n",
              "      width: 32px;\n",
              "    }\n",
              "\n",
              "    .colab-df-convert:hover {\n",
              "      background-color: #E2EBFA;\n",
              "      box-shadow: 0px 1px 2px rgba(60, 64, 67, 0.3), 0px 1px 3px 1px rgba(60, 64, 67, 0.15);\n",
              "      fill: #174EA6;\n",
              "    }\n",
              "\n",
              "    .colab-df-buttons div {\n",
              "      margin-bottom: 4px;\n",
              "    }\n",
              "\n",
              "    [theme=dark] .colab-df-convert {\n",
              "      background-color: #3B4455;\n",
              "      fill: #D2E3FC;\n",
              "    }\n",
              "\n",
              "    [theme=dark] .colab-df-convert:hover {\n",
              "      background-color: #434B5C;\n",
              "      box-shadow: 0px 1px 3px 1px rgba(0, 0, 0, 0.15);\n",
              "      filter: drop-shadow(0px 1px 2px rgba(0, 0, 0, 0.3));\n",
              "      fill: #FFFFFF;\n",
              "    }\n",
              "  </style>\n",
              "\n",
              "    <script>\n",
              "      const buttonEl =\n",
              "        document.querySelector('#df-c657c6b4-9e7e-4df7-b474-fdb6998d0325 button.colab-df-convert');\n",
              "      buttonEl.style.display =\n",
              "        google.colab.kernel.accessAllowed ? 'block' : 'none';\n",
              "\n",
              "      async function convertToInteractive(key) {\n",
              "        const element = document.querySelector('#df-c657c6b4-9e7e-4df7-b474-fdb6998d0325');\n",
              "        const dataTable =\n",
              "          await google.colab.kernel.invokeFunction('convertToInteractive',\n",
              "                                                    [key], {});\n",
              "        if (!dataTable) return;\n",
              "\n",
              "        const docLinkHtml = 'Like what you see? Visit the ' +\n",
              "          '<a target=\"_blank\" href=https://colab.research.google.com/notebooks/data_table.ipynb>data table notebook</a>'\n",
              "          + ' to learn more about interactive tables.';\n",
              "        element.innerHTML = '';\n",
              "        dataTable['output_type'] = 'display_data';\n",
              "        await google.colab.output.renderOutput(dataTable, element);\n",
              "        const docLink = document.createElement('div');\n",
              "        docLink.innerHTML = docLinkHtml;\n",
              "        element.appendChild(docLink);\n",
              "      }\n",
              "    </script>\n",
              "  </div>\n",
              "\n",
              "\n",
              "<div id=\"df-4a5ebb6e-8d89-459c-a3b7-913282905d97\">\n",
              "  <button class=\"colab-df-quickchart\" onclick=\"quickchart('df-4a5ebb6e-8d89-459c-a3b7-913282905d97')\"\n",
              "            title=\"Suggest charts\"\n",
              "            style=\"display:none;\">\n",
              "\n",
              "<svg xmlns=\"http://www.w3.org/2000/svg\" height=\"24px\"viewBox=\"0 0 24 24\"\n",
              "     width=\"24px\">\n",
              "    <g>\n",
              "        <path d=\"M19 3H5c-1.1 0-2 .9-2 2v14c0 1.1.9 2 2 2h14c1.1 0 2-.9 2-2V5c0-1.1-.9-2-2-2zM9 17H7v-7h2v7zm4 0h-2V7h2v10zm4 0h-2v-4h2v4z\"/>\n",
              "    </g>\n",
              "</svg>\n",
              "  </button>\n",
              "\n",
              "<style>\n",
              "  .colab-df-quickchart {\n",
              "      --bg-color: #E8F0FE;\n",
              "      --fill-color: #1967D2;\n",
              "      --hover-bg-color: #E2EBFA;\n",
              "      --hover-fill-color: #174EA6;\n",
              "      --disabled-fill-color: #AAA;\n",
              "      --disabled-bg-color: #DDD;\n",
              "  }\n",
              "\n",
              "  [theme=dark] .colab-df-quickchart {\n",
              "      --bg-color: #3B4455;\n",
              "      --fill-color: #D2E3FC;\n",
              "      --hover-bg-color: #434B5C;\n",
              "      --hover-fill-color: #FFFFFF;\n",
              "      --disabled-bg-color: #3B4455;\n",
              "      --disabled-fill-color: #666;\n",
              "  }\n",
              "\n",
              "  .colab-df-quickchart {\n",
              "    background-color: var(--bg-color);\n",
              "    border: none;\n",
              "    border-radius: 50%;\n",
              "    cursor: pointer;\n",
              "    display: none;\n",
              "    fill: var(--fill-color);\n",
              "    height: 32px;\n",
              "    padding: 0;\n",
              "    width: 32px;\n",
              "  }\n",
              "\n",
              "  .colab-df-quickchart:hover {\n",
              "    background-color: var(--hover-bg-color);\n",
              "    box-shadow: 0 1px 2px rgba(60, 64, 67, 0.3), 0 1px 3px 1px rgba(60, 64, 67, 0.15);\n",
              "    fill: var(--button-hover-fill-color);\n",
              "  }\n",
              "\n",
              "  .colab-df-quickchart-complete:disabled,\n",
              "  .colab-df-quickchart-complete:disabled:hover {\n",
              "    background-color: var(--disabled-bg-color);\n",
              "    fill: var(--disabled-fill-color);\n",
              "    box-shadow: none;\n",
              "  }\n",
              "\n",
              "  .colab-df-spinner {\n",
              "    border: 2px solid var(--fill-color);\n",
              "    border-color: transparent;\n",
              "    border-bottom-color: var(--fill-color);\n",
              "    animation:\n",
              "      spin 1s steps(1) infinite;\n",
              "  }\n",
              "\n",
              "  @keyframes spin {\n",
              "    0% {\n",
              "      border-color: transparent;\n",
              "      border-bottom-color: var(--fill-color);\n",
              "      border-left-color: var(--fill-color);\n",
              "    }\n",
              "    20% {\n",
              "      border-color: transparent;\n",
              "      border-left-color: var(--fill-color);\n",
              "      border-top-color: var(--fill-color);\n",
              "    }\n",
              "    30% {\n",
              "      border-color: transparent;\n",
              "      border-left-color: var(--fill-color);\n",
              "      border-top-color: var(--fill-color);\n",
              "      border-right-color: var(--fill-color);\n",
              "    }\n",
              "    40% {\n",
              "      border-color: transparent;\n",
              "      border-right-color: var(--fill-color);\n",
              "      border-top-color: var(--fill-color);\n",
              "    }\n",
              "    60% {\n",
              "      border-color: transparent;\n",
              "      border-right-color: var(--fill-color);\n",
              "    }\n",
              "    80% {\n",
              "      border-color: transparent;\n",
              "      border-right-color: var(--fill-color);\n",
              "      border-bottom-color: var(--fill-color);\n",
              "    }\n",
              "    90% {\n",
              "      border-color: transparent;\n",
              "      border-bottom-color: var(--fill-color);\n",
              "    }\n",
              "  }\n",
              "</style>\n",
              "\n",
              "  <script>\n",
              "    async function quickchart(key) {\n",
              "      const quickchartButtonEl =\n",
              "        document.querySelector('#' + key + ' button');\n",
              "      quickchartButtonEl.disabled = true;  // To prevent multiple clicks.\n",
              "      quickchartButtonEl.classList.add('colab-df-spinner');\n",
              "      try {\n",
              "        const charts = await google.colab.kernel.invokeFunction(\n",
              "            'suggestCharts', [key], {});\n",
              "      } catch (error) {\n",
              "        console.error('Error during call to suggestCharts:', error);\n",
              "      }\n",
              "      quickchartButtonEl.classList.remove('colab-df-spinner');\n",
              "      quickchartButtonEl.classList.add('colab-df-quickchart-complete');\n",
              "    }\n",
              "    (() => {\n",
              "      let quickchartButtonEl =\n",
              "        document.querySelector('#df-4a5ebb6e-8d89-459c-a3b7-913282905d97 button');\n",
              "      quickchartButtonEl.style.display =\n",
              "        google.colab.kernel.accessAllowed ? 'block' : 'none';\n",
              "    })();\n",
              "  </script>\n",
              "</div>\n",
              "\n",
              "    </div>\n",
              "  </div>\n"
            ],
            "application/vnd.google.colaboratory.intrinsic+json": {
              "type": "dataframe",
              "summary": "{\n  \"name\": \"pd\",\n  \"rows\": 5,\n  \"fields\": [\n    {\n      \"column\": \"c0\",\n      \"properties\": {\n        \"dtype\": \"string\",\n        \"num_unique_values\": 5,\n        \"samples\": [\n          \"Ombr\\ufffd\\ufffd Pink D\",\n          \"Very Berry Hibiscus Starbucks Refreshers\\ufffd\\ufffd\\ufffd Be\",\n          \"Pink Drink\"\n        ],\n        \"semantic_type\": \"\",\n        \"description\": \"\"\n      }\n    },\n    {\n      \"column\": \"Calories\",\n      \"properties\": {\n        \"dtype\": \"string\",\n        \"num_unique_values\": 4,\n        \"samples\": [\n          \"-\",\n          \"60\",\n          \"45\"\n        ],\n        \"semantic_type\": \"\",\n        \"description\": \"\"\n      }\n    },\n    {\n      \"column\": \"Fat (g)\",\n      \"properties\": {\n        \"dtype\": \"category\",\n        \"num_unique_values\": 2,\n        \"samples\": [\n          \"-\",\n          \"0\"\n        ],\n        \"semantic_type\": \"\",\n        \"description\": \"\"\n      }\n    },\n    {\n      \"column\": \"Carb (g)\",\n      \"properties\": {\n        \"dtype\": \"string\",\n        \"num_unique_values\": 4,\n        \"samples\": [\n          \"-\",\n          \"14\"\n        ],\n        \"semantic_type\": \"\",\n        \"description\": \"\"\n      }\n    },\n    {\n      \"column\": \"Fiber (g)\",\n      \"properties\": {\n        \"dtype\": \"string\",\n        \"num_unique_values\": 3,\n        \"samples\": [\n          \"0\",\n          \"-\"\n        ],\n        \"semantic_type\": \"\",\n        \"description\": \"\"\n      }\n    },\n    {\n      \"column\": \"Protein\",\n      \"properties\": {\n        \"dtype\": \"category\",\n        \"num_unique_values\": 2,\n        \"samples\": [\n          \"-\",\n          \"0\"\n        ],\n        \"semantic_type\": \"\",\n        \"description\": \"\"\n      }\n    },\n    {\n      \"column\": \"Sodium\",\n      \"properties\": {\n        \"dtype\": \"category\",\n        \"num_unique_values\": 2,\n        \"samples\": [\n          \"-\",\n          \"10\"\n        ],\n        \"semantic_type\": \"\",\n        \"description\": \"\"\n      }\n    }\n  ]\n}"
            }
          },
          "metadata": {},
          "execution_count": 4
        }
      ]
    },
    {
      "cell_type": "code",
      "source": [
        "df.count(), df.drop_duplicates().count(), df.dropna().count()"
      ],
      "metadata": {
        "colab": {
          "base_uri": "https://localhost:8080/"
        },
        "id": "vvr3NEUm5wzG",
        "outputId": "3a5938d5-bc39-4798-9d6f-01c0ddc51b21"
      },
      "execution_count": null,
      "outputs": [
        {
          "output_type": "execute_result",
          "data": {
            "text/plain": [
              "(177, 155, 177)"
            ]
          },
          "metadata": {},
          "execution_count": 5
        }
      ]
    },
    {
      "cell_type": "code",
      "source": [
        "df.show()"
      ],
      "metadata": {
        "colab": {
          "base_uri": "https://localhost:8080/"
        },
        "id": "dbDeRIEc6Cec",
        "outputId": "9f48102e-0478-43f2-e722-80d22b78ba85"
      },
      "execution_count": null,
      "outputs": [
        {
          "output_type": "stream",
          "name": "stdout",
          "text": [
            "+--------------------+--------+-------+--------+---------+-------+------+\n",
            "|                  c0|Calories|Fat (g)|Carb (g)|Fiber (g)|Protein|Sodium|\n",
            "+--------------------+--------+-------+--------+---------+-------+------+\n",
            "|Cool Lime Starbuc...|      45|      0|      11|        0|      0|    10|\n",
            "|       Ombr�� Pink D|       -|      -|       -|        -|      -|     -|\n",
            "|          Pink Drink|       -|      -|       -|        -|      -|     -|\n",
            "|Strawberry Acai S...|      80|      0|      18|        1|      0|    10|\n",
            "|Very Berry Hibisc...|      60|      0|      14|        1|      0|    10|\n",
            "|        Violet Drink|       -|      -|       -|        -|      -|     -|\n",
            "|Evolution Fresh��...|       -|      -|       -|        -|      -|     -|\n",
            "|Evolution Fresh��...|       -|      -|       -|        -|      -|     -|\n",
            "|Evolution Fresh��...|     110|      0|      28|        0|      0|     5|\n",
            "|         Iced Coffee|       0|      0|       0|        0|      0|     0|\n",
            "|Iced Coffee with ...|       -|      -|       -|        -|      -|     -|\n",
            "|Iced Espresso Cla...|     130|    2.5|      21|        0|      5|    65|\n",
            "|Iced Espresso Cla...|     140|    2.5|      23|        0|      5|    90|\n",
            "|Iced Espresso Cla...|     130|    2.5|      21|        0|      5|    65|\n",
            "|Starbucks�� Caram...|       -|      -|       -|        -|      -|     -|\n",
            "|Starbucks�� Iced ...|       -|      -|       -|        -|      -|     -|\n",
            "|Starbucks�� Low C...|       -|      -|       -|        -|      -|     -|\n",
            "|Starbucks�� Vanil...|       -|      -|       -|        -|      -|     -|\n",
            "|    Shaken Sweet Tea|      80|      0|      19|        0|      0|    10|\n",
            "|Tazo�� Bottled Be...|      60|      0|      15|        0|      0|    10|\n",
            "+--------------------+--------+-------+--------+---------+-------+------+\n",
            "only showing top 20 rows\n",
            "\n"
          ]
        }
      ]
    },
    {
      "cell_type": "code",
      "source": [
        "from pyspark.ml.feature import VectorAssembler\n",
        "from pyspark.ml import Pipeline\n",
        "from pyspark.ml.feature import StringIndexer, OneHotEncoder\n",
        "from pyspark.ml.regression import LinearRegression\n",
        "from pyspark.sql.types import DoubleType"
      ],
      "metadata": {
        "id": "kQobIR5C6GCZ"
      },
      "execution_count": null,
      "outputs": []
    },
    {
      "cell_type": "code",
      "source": [
        "df = df.withColumn(\"Calories\", df[\"Calories\"].cast(DoubleType()))\n",
        "df = df.withColumn(\"Fat (g)\", df[\"Fat (g)\"].cast(DoubleType()))\n",
        "df = df.withColumn(\"Carb (g)\", df[\"Carb (g)\"].cast(DoubleType()))\n",
        "df = df.withColumn(\"Fiber (g)\", df[\"Fiber (g)\"].cast(DoubleType()))\n",
        "df = df.withColumn(\"Protein\", df[\"Protein\"].cast(DoubleType()))\n",
        "df = df.withColumn(\"Sodium\", df[\"Sodium\"].cast(DoubleType()))"
      ],
      "metadata": {
        "id": "S6z6GaZU6JNx"
      },
      "execution_count": null,
      "outputs": []
    },
    {
      "cell_type": "code",
      "source": [
        "df.show()"
      ],
      "metadata": {
        "colab": {
          "base_uri": "https://localhost:8080/"
        },
        "id": "V3ukVngx6LFf",
        "outputId": "19ac323f-f2e7-455c-8c0c-8e666b4a5444"
      },
      "execution_count": null,
      "outputs": [
        {
          "output_type": "stream",
          "name": "stdout",
          "text": [
            "+--------------------+--------+-------+--------+---------+-------+------+\n",
            "|                  c0|Calories|Fat (g)|Carb (g)|Fiber (g)|Protein|Sodium|\n",
            "+--------------------+--------+-------+--------+---------+-------+------+\n",
            "|Cool Lime Starbuc...|    45.0|    0.0|    11.0|      0.0|    0.0|  10.0|\n",
            "|       Ombr�� Pink D|    NULL|   NULL|    NULL|     NULL|   NULL|  NULL|\n",
            "|          Pink Drink|    NULL|   NULL|    NULL|     NULL|   NULL|  NULL|\n",
            "|Strawberry Acai S...|    80.0|    0.0|    18.0|      1.0|    0.0|  10.0|\n",
            "|Very Berry Hibisc...|    60.0|    0.0|    14.0|      1.0|    0.0|  10.0|\n",
            "|        Violet Drink|    NULL|   NULL|    NULL|     NULL|   NULL|  NULL|\n",
            "|Evolution Fresh��...|    NULL|   NULL|    NULL|     NULL|   NULL|  NULL|\n",
            "|Evolution Fresh��...|    NULL|   NULL|    NULL|     NULL|   NULL|  NULL|\n",
            "|Evolution Fresh��...|   110.0|    0.0|    28.0|      0.0|    0.0|   5.0|\n",
            "|         Iced Coffee|     0.0|    0.0|     0.0|      0.0|    0.0|   0.0|\n",
            "|Iced Coffee with ...|    NULL|   NULL|    NULL|     NULL|   NULL|  NULL|\n",
            "|Iced Espresso Cla...|   130.0|    2.5|    21.0|      0.0|    5.0|  65.0|\n",
            "|Iced Espresso Cla...|   140.0|    2.5|    23.0|      0.0|    5.0|  90.0|\n",
            "|Iced Espresso Cla...|   130.0|    2.5|    21.0|      0.0|    5.0|  65.0|\n",
            "|Starbucks�� Caram...|    NULL|   NULL|    NULL|     NULL|   NULL|  NULL|\n",
            "|Starbucks�� Iced ...|    NULL|   NULL|    NULL|     NULL|   NULL|  NULL|\n",
            "|Starbucks�� Low C...|    NULL|   NULL|    NULL|     NULL|   NULL|  NULL|\n",
            "|Starbucks�� Vanil...|    NULL|   NULL|    NULL|     NULL|   NULL|  NULL|\n",
            "|    Shaken Sweet Tea|    80.0|    0.0|    19.0|      0.0|    0.0|  10.0|\n",
            "|Tazo�� Bottled Be...|    60.0|    0.0|    15.0|      0.0|    0.0|  10.0|\n",
            "+--------------------+--------+-------+--------+---------+-------+------+\n",
            "only showing top 20 rows\n",
            "\n"
          ]
        }
      ]
    },
    {
      "cell_type": "code",
      "source": [
        "df = df.na.drop()"
      ],
      "metadata": {
        "id": "PbUzsRUx6M7_"
      },
      "execution_count": null,
      "outputs": []
    },
    {
      "cell_type": "code",
      "source": [
        "df.show()"
      ],
      "metadata": {
        "colab": {
          "base_uri": "https://localhost:8080/"
        },
        "id": "rgJ8DwGC6Phv",
        "outputId": "039af27f-5f02-4927-9956-0ad2ef440696"
      },
      "execution_count": null,
      "outputs": [
        {
          "output_type": "stream",
          "name": "stdout",
          "text": [
            "+--------------------+--------+-------+--------+---------+-------+------+\n",
            "|                  c0|Calories|Fat (g)|Carb (g)|Fiber (g)|Protein|Sodium|\n",
            "+--------------------+--------+-------+--------+---------+-------+------+\n",
            "|Cool Lime Starbuc...|    45.0|    0.0|    11.0|      0.0|    0.0|  10.0|\n",
            "|Strawberry Acai S...|    80.0|    0.0|    18.0|      1.0|    0.0|  10.0|\n",
            "|Very Berry Hibisc...|    60.0|    0.0|    14.0|      1.0|    0.0|  10.0|\n",
            "|Evolution Fresh��...|   110.0|    0.0|    28.0|      0.0|    0.0|   5.0|\n",
            "|         Iced Coffee|     0.0|    0.0|     0.0|      0.0|    0.0|   0.0|\n",
            "|Iced Espresso Cla...|   130.0|    2.5|    21.0|      0.0|    5.0|  65.0|\n",
            "|Iced Espresso Cla...|   140.0|    2.5|    23.0|      0.0|    5.0|  90.0|\n",
            "|Iced Espresso Cla...|   130.0|    2.5|    21.0|      0.0|    5.0|  65.0|\n",
            "|    Shaken Sweet Tea|    80.0|    0.0|    19.0|      0.0|    0.0|  10.0|\n",
            "|Tazo�� Bottled Be...|    60.0|    0.0|    15.0|      0.0|    0.0|  10.0|\n",
            "|Tazo�� Bottled Bl...|   150.0|    0.0|    38.0|      0.0|    0.0|  15.0|\n",
            "|Tazo�� Bottled Bl...|   140.0|    0.0|    35.0|      0.0|    0.0|  10.0|\n",
            "|Tazo�� Bottled Br...|   140.0|    0.0|    35.0|      0.0|    0.0|  15.0|\n",
            "|Tazo�� Bottled Gi...|   150.0|    0.0|    37.0|      0.0|    0.0|  15.0|\n",
            "|Tazo�� Bottled Ic...|    70.0|    0.0|    17.0|      0.0|    0.0|  10.0|\n",
            "|Tazo�� Bottled Le...|   120.0|    0.0|    31.0|      0.0|    0.0|  10.0|\n",
            "|Tazo�� Bottled Or...|   140.0|    0.0|    35.0|      0.0|    0.0|  10.0|\n",
            "|Tazo�� Bottled Or...|    60.0|    0.0|    15.0|      0.0|    0.0|  10.0|\n",
            "|Tazo�� Bottled Or...|   120.0|    0.0|    31.0|      0.0|    0.0|  10.0|\n",
            "|Tazo�� Bottled Pl...|   140.0|    0.0|    35.0|      0.0|    0.0|  10.0|\n",
            "+--------------------+--------+-------+--------+---------+-------+------+\n",
            "only showing top 20 rows\n",
            "\n"
          ]
        }
      ]
    },
    {
      "cell_type": "code",
      "source": [
        "from pyspark.ml.feature import OneHotEncoder, StringIndexer, VectorAssembler\n",
        "from pyspark.ml import Pipeline"
      ],
      "metadata": {
        "id": "U-ISuyGz6REw"
      },
      "execution_count": null,
      "outputs": []
    },
    {
      "cell_type": "code",
      "source": [
        "df.printSchema()"
      ],
      "metadata": {
        "colab": {
          "base_uri": "https://localhost:8080/"
        },
        "id": "8ZI18KiUA-hp",
        "outputId": "c0859440-b599-4d40-aa09-bf4237b91635"
      },
      "execution_count": null,
      "outputs": [
        {
          "output_type": "stream",
          "name": "stdout",
          "text": [
            "root\n",
            " |-- c0: string (nullable = true)\n",
            " |-- Calories: double (nullable = true)\n",
            " |-- Fat (g): double (nullable = true)\n",
            " |-- Carb (g): double (nullable = true)\n",
            " |-- Fiber (g): double (nullable = true)\n",
            " |-- Protein: double (nullable = true)\n",
            " |-- Sodium: double (nullable = true)\n",
            "\n"
          ]
        }
      ]
    },
    {
      "cell_type": "code",
      "source": [
        "categoricalColumns = ['c0']"
      ],
      "metadata": {
        "id": "wv0lHEW06V1g"
      },
      "execution_count": null,
      "outputs": []
    },
    {
      "cell_type": "code",
      "source": [
        "stages = []\n",
        "cols = df.columns\n",
        "for categoricalCol in categoricalColumns:\n",
        "  stringIndexer = StringIndexer(inputCol = categoricalCol, outputCol = categoricalCol + 'Index')\n",
        "  encoder = OneHotEncoder(inputCols=[stringIndexer.getOutputCol()], outputCols=[categoricalCol + \"classVec\"])\n",
        "  stages += [stringIndexer, encoder]\n",
        "\n",
        "numericCols = ['Calories', 'Fat (g)', 'Carb (g)', 'Fiber (g)', 'Protein', 'Sodium']\n",
        "assemblerInputs = [c + \"classVec\" for c in categoricalColumns] + numericCols\n",
        "assembler = VectorAssembler(inputCols=assemblerInputs, outputCol=\"features\")\n",
        "stages += [assembler]\n",
        "pipeline = Pipeline(stages = stages)\n",
        "pipelineModel = pipeline.fit(df)\n",
        "df = pipelineModel.transform(df)\n",
        "\n",
        "selectedCols = ['Calories', 'features']\n",
        "df = df.select(selectedCols)\n",
        "df.printSchema()\n"
      ],
      "metadata": {
        "colab": {
          "base_uri": "https://localhost:8080/"
        },
        "id": "8XnfZSkc6Xyo",
        "outputId": "a7aecd7f-1586-41d1-dff0-e76f1eb851f1"
      },
      "execution_count": null,
      "outputs": [
        {
          "output_type": "stream",
          "name": "stdout",
          "text": [
            "root\n",
            " |-- Calories: double (nullable = true)\n",
            " |-- features: vector (nullable = true)\n",
            "\n"
          ]
        }
      ]
    },
    {
      "cell_type": "code",
      "source": [
        "df.show()"
      ],
      "metadata": {
        "colab": {
          "base_uri": "https://localhost:8080/"
        },
        "id": "ApQZcvvk6Zfj",
        "outputId": "009d16bf-bc24-481a-82d6-65f905aa2754"
      },
      "execution_count": null,
      "outputs": [
        {
          "output_type": "stream",
          "name": "stdout",
          "text": [
            "+--------+--------------------+\n",
            "|Calories|            features|\n",
            "+--------+--------------------+\n",
            "|    45.0|(79,[30,73,75,78]...|\n",
            "|    80.0|(79,[60,73,75,76,...|\n",
            "|    60.0|(79,[72,73,75,76,...|\n",
            "|   110.0|(79,[32,73,75,78]...|\n",
            "|     0.0|      (79,[0],[1.0])|\n",
            "|   130.0|(79,[3,73,74,75,7...|\n",
            "|   140.0|(79,[1,73,74,75,7...|\n",
            "|   130.0|(79,[2,73,74,75,7...|\n",
            "|    80.0|(79,[50,73,75,78]...|\n",
            "|    60.0|(79,[5,73,75,78],...|\n",
            "|   150.0|(79,[6,73,75,78],...|\n",
            "|   140.0|(79,[7,73,75,78],...|\n",
            "|   140.0|(79,[8,73,75,78],...|\n",
            "|   150.0|(79,[9,73,75,78],...|\n",
            "|    70.0|(79,[10,73,75,78]...|\n",
            "|   120.0|(79,[11,73,75,78]...|\n",
            "|   140.0|(79,[12,73,75,78]...|\n",
            "|    60.0|(79,[13,73,75,78]...|\n",
            "|   120.0|(79,[14,73,75,78]...|\n",
            "|   140.0|(79,[15,73,75,78]...|\n",
            "+--------+--------------------+\n",
            "only showing top 20 rows\n",
            "\n"
          ]
        }
      ]
    },
    {
      "cell_type": "code",
      "source": [
        "train, test = df.randomSplit([0.7, 0.3], seed = 2018)\n",
        "print(\"Training Dataset Count: \" + str(train.count()))\n",
        "print(\"Test Dataset Count: \" + str(test.count()))"
      ],
      "metadata": {
        "colab": {
          "base_uri": "https://localhost:8080/"
        },
        "id": "khTUFc486cVD",
        "outputId": "8ec38297-05a8-4f5c-d587-685f1b433b01"
      },
      "execution_count": null,
      "outputs": [
        {
          "output_type": "stream",
          "name": "stdout",
          "text": [
            "Training Dataset Count: 66\n",
            "Test Dataset Count: 26\n"
          ]
        }
      ]
    },
    {
      "cell_type": "code",
      "source": [
        "from pyspark.ml.regression import LinearRegression\n",
        "lr = LinearRegression(featuresCol = 'features', labelCol='Calories', maxIter=10, regParam=0.3, elasticNetParam=0.8)\n",
        "lr_model = lr.fit(train)"
      ],
      "metadata": {
        "id": "3LK2C_ge6fKP"
      },
      "execution_count": null,
      "outputs": []
    },
    {
      "cell_type": "code",
      "source": [
        "import matplotlib.pyplot as plt\n",
        "import numpy as np\n",
        "# Plot the evaluation metric and curve\n",
        "plt.figure(figsize=(5, 5))\n",
        "plt.scatter(test.select(\"Calories\").collect(), predictions.select(\"prediction\").collect())\n",
        "plt.plot([0, 500], [0, 500], 'r-')\n",
        "plt.xlabel(\"True Calories\")\n",
        "plt.ylabel(\"Predicted Calories\")\n",
        "plt.title(\"Linear Regression Model\")\n",
        "plt.show()\n",
        "\n",
        "# Evaluate the model by computing the root mean squared error on the test data.\n",
        "predictions = lr_model.transform(test)\n",
        "errors = predictions.select(\"Calories\", \"prediction\").rdd.map(lambda x: x[0] - x[1]).map(lambda x: x * x).collect()\n",
        "rmse = np.sqrt(sum(errors) / len(errors))\n",
        "print(\"Root Mean Squared Error (RMSE) on test data = %g\" % rmse)\n",
        "\n",
        "# Print the accuracy of the model\n",
        "evaluator = RegressionEvaluator(labelCol=\"Calories\", predictionCol=\"prediction\", metricName=\"r2\")\n",
        "r2 = evaluator.evaluate(predictions)\n",
        "print(\"R2 on test data: \" + str(r2))\n"
      ],
      "metadata": {
        "colab": {
          "base_uri": "https://localhost:8080/",
          "height": 522
        },
        "id": "P04ROx3GZr6O",
        "outputId": "7193f286-3684-46d6-f276-780917da6876"
      },
      "execution_count": null,
      "outputs": [
        {
          "output_type": "display_data",
          "data": {
            "text/plain": [
              "<Figure size 500x500 with 1 Axes>"
            ],
            "image/png": "[encoded data removed]"
          },
          "metadata": {}
        },
        {
          "output_type": "stream",
          "name": "stdout",
          "text": [
            "Root Mean Squared Error (RMSE) on test data = 6.56386\n",
            "R2 on test data: 0.996071954098091\n"
          ]
        }
      ]
    },
    {
      "cell_type": "code",
      "source": [
        "import matplotlib.pyplot as plt\n",
        "from pyspark.ml.regression import DecisionTreeRegressor\n",
        "import numpy as np\n",
        "dt = DecisionTreeRegressor(featuresCol ='features', labelCol = 'Calories')\n",
        "dt_model = dt.fit(train)\n",
        "dt_predictions = dt_model.transform(test)\n",
        "dt_predictions.select('prediction', 'Calories', 'features').show(5)\n",
        "\n",
        "\n",
        "# Create a DecisionTreeRegressor instance\n",
        "dt = DecisionTreeRegressor(featuresCol='features', labelCol='Calories')\n",
        "\n",
        "# Train the model\n",
        "model = dt.fit(train)\n",
        "\n",
        "# Make predictions on the test set\n",
        "predictions = model.transform(test)\n",
        "\n",
        "# Calculate and print the RMSE\n",
        "evaluator = RegressionEvaluator(labelCol=\"Calories\", predictionCol=\"prediction\", metricName=\"rmse\")\n",
        "rmse = evaluator.evaluate(predictions)\n",
        "print(\"Root Mean Squared Error (RMSE) on test data = %g\" % rmse)\n",
        "\n",
        "# Calculate and print the R2\n",
        "evaluator = RegressionEvaluator(labelCol=\"Calories\", predictionCol=\"prediction\", metricName=\"r2\")\n",
        "r2 = evaluator.evaluate(predictions)\n",
        "print(\"R2 on test data: \" + str(r2))\n",
        "x_ax = range(len(dt_predictions.select('Calories').collect()))\n",
        "plt.scatter(x_ax, dt_predictions.select('Calories').collect())\n",
        "plt.plot(x_ax, dt_predictions.select('prediction').collect())\n",
        "plt.xlabel('Index')\n",
        "plt.ylabel('Calories')\n",
        "plt.title('Calories Prediction using Decision Tree')\n",
        "plt.show()\n",
        "\n",
        "\n"
      ],
      "metadata": {
        "colab": {
          "base_uri": "https://localhost:8080/",
          "height": 698
        },
        "id": "pfnuDEGVbvF0",
        "outputId": "b5ccabf9-98e3-4dea-b5ca-6491db180d74"
      },
      "execution_count": null,
      "outputs": [
        {
          "output_type": "stream",
          "name": "stdout",
          "text": [
            "+-----------------+--------+--------------------+\n",
            "|       prediction|Calories|            features|\n",
            "+-----------------+--------+--------------------+\n",
            "|4.285714285714286|     0.0|      (79,[0],[1.0])|\n",
            "|4.285714285714286|     5.0|(79,[49,73,77,78]...|\n",
            "|             10.0|    30.0|(79,[62,73,75,78]...|\n",
            "|             10.0|    30.0|(79,[64,73,75,78]...|\n",
            "|             45.0|    50.0|(79,[57,73,75,77]...|\n",
            "+-----------------+--------+--------------------+\n",
            "only showing top 5 rows\n",
            "\n",
            "Root Mean Squared Error (RMSE) on test data = 17.5892\n",
            "R2 on test data: 0.9717934735301474\n"
          ]
        },
        {
          "output_type": "display_data",
          "data": {
            "text/plain": [
              "<Figure size 640x480 with 1 Axes>"
            ],
            "image/png": "[encoded data removed]"
          },
          "metadata": {}
        }
      ]
    },
    {
      "cell_type": "code",
      "source": [
        "# prompt: plot graph for GBT regressor model and calculate rmse value and r2 value\n",
        "\n",
        "import matplotlib.pyplot as plt\n",
        "# Create a GBTRegressor instance\n",
        "gbt = GBTRegressor(featuresCol='features', labelCol='Calories')\n",
        "\n",
        "# Train the model\n",
        "model = gbt.fit(train)\n",
        "\n",
        "# Make predictions on the test set\n",
        "predictions = model.transform(test)\n",
        "\n",
        "# Calculate and print the RMSE\n",
        "evaluator = RegressionEvaluator(labelCol=\"Calories\", predictionCol=\"prediction\", metricName=\"rmse\")\n",
        "rmse = evaluator.evaluate(predictions)\n",
        "print(\"Root Mean Squared Error (RMSE) on test data = %g\" % rmse)\n",
        "\n",
        "# Calculate and print the R2\n",
        "evaluator = RegressionEvaluator(labelCol=\"Calories\", predictionCol=\"prediction\", metricName=\"r2\")\n",
        "r2 = evaluator.evaluate(predictions)\n",
        "print(\"R2 on test data: \" + str(r2))\n",
        "\n",
        "# Plot the predictions versus the actual values\n",
        "x_ax = range(len(predictions.select('Calories').collect()))\n",
        "plt.scatter(x_ax, predictions.select('Calories').collect())\n",
        "plt.plot(x_ax, predictions.select('prediction').collect())\n",
        "plt.xlabel('Index')\n",
        "plt.ylabel('Calories')\n",
        "plt.title('Calories Prediction using GBT Regressor')\n",
        "plt.show()\n"
      ],
      "metadata": {
        "colab": {
          "base_uri": "https://localhost:8080/",
          "height": 507
        },
        "id": "FHTGqy7ycvB0",
        "outputId": "99f0a346-debc-4183-b0d9-5fd3dcbe0f9d"
      },
      "execution_count": null,
      "outputs": [
        {
          "output_type": "stream",
          "name": "stdout",
          "text": [
            "Root Mean Squared Error (RMSE) on test data = 17.5958\n",
            "R2 on test data: 0.9717723648754628\n"
          ]
        },
        {
          "output_type": "display_data",
          "data": {
            "text/plain": [
              "<Figure size 640x480 with 1 Axes>"
            ],
            "image/png": "[encoded data removed]"
          },
          "metadata": {}
        }
      ]
    },
    {
      "cell_type": "code",
      "source": [
        "# Perform predictions\n",
        "lr_predictions = lr_model.transform(test)\n",
        "lr_predictions.select(\"prediction\",\"Calories\",\"features\").show(5)"
      ],
      "metadata": {
        "colab": {
          "base_uri": "https://localhost:8080/"
        },
        "id": "70KCiFW96heD",
        "outputId": "d83a53e1-19a4-49ab-e254-06fd8b58fb58"
      },
      "execution_count": null,
      "outputs": [
        {
          "output_type": "stream",
          "name": "stdout",
          "text": [
            "+------------------+--------+--------------------+\n",
            "|        prediction|Calories|            features|\n",
            "+------------------+--------+--------------------+\n",
            "|3.0369981084474738|     0.0|      (79,[0],[1.0])|\n",
            "|18.408102904610587|     5.0|(79,[49,73,77,78]...|\n",
            "| 39.11038986113448|    30.0|(79,[62,73,75,78]...|\n",
            "| 39.11038986113448|    30.0|(79,[64,73,75,78]...|\n",
            "| 52.86365313170139|    50.0|(79,[57,73,75,77]...|\n",
            "+------------------+--------+--------------------+\n",
            "only showing top 5 rows\n",
            "\n"
          ]
        }
      ]
    },
    {
      "cell_type": "code",
      "source": [
        "# Evaluate prediction accuracy (R2)\n",
        "from pyspark.ml.evaluation import RegressionEvaluator\n",
        "lr_evaluator = RegressionEvaluator(predictionCol=\"prediction\", \\\n",
        "                 labelCol=\"Calories\",metricName=\"r2\")\n",
        "print(lr_evaluator.evaluate(lr_predictions))"
      ],
      "metadata": {
        "colab": {
          "base_uri": "https://localhost:8080/"
        },
        "id": "UFD2SXlV6kGn",
        "outputId": "4a5d3091-cc0c-4d2e-cfa8-1bb39835e02d"
      },
      "execution_count": null,
      "outputs": [
        {
          "output_type": "stream",
          "name": "stdout",
          "text": [
            "0.996071954098091\n"
          ]
        }
      ]
    },
    {
      "cell_type": "code",
      "source": [
        "from pyspark.ml.regression import DecisionTreeRegressor\n",
        "dt = DecisionTreeRegressor(featuresCol ='features', labelCol = 'Calories')\n",
        "dt_model = dt.fit(train)"
      ],
      "metadata": {
        "id": "VtIiu84E6man"
      },
      "execution_count": null,
      "outputs": []
    },
    {
      "cell_type": "code",
      "source": [
        "dt_predictions = dt_model.transform(test)\n",
        "dt_predictions.show(5)"
      ],
      "metadata": {
        "colab": {
          "base_uri": "https://localhost:8080/"
        },
        "id": "dFymJogp6o0n",
        "outputId": "168855b8-227f-4001-81bd-d4a51f27ae72"
      },
      "execution_count": null,
      "outputs": [
        {
          "output_type": "stream",
          "name": "stdout",
          "text": [
            "+--------+--------------------+-----------------+\n",
            "|Calories|            features|       prediction|\n",
            "+--------+--------------------+-----------------+\n",
            "|     0.0|      (79,[0],[1.0])|4.285714285714286|\n",
            "|     5.0|(79,[49,73,77,78]...|4.285714285714286|\n",
            "|    30.0|(79,[62,73,75,78]...|             10.0|\n",
            "|    30.0|(79,[64,73,75,78]...|             10.0|\n",
            "|    50.0|(79,[57,73,75,77]...|             45.0|\n",
            "+--------+--------------------+-----------------+\n",
            "only showing top 5 rows\n",
            "\n"
          ]
        }
      ]
    },
    {
      "cell_type": "code",
      "source": [
        "dt_evaluator = RegressionEvaluator(\n",
        "    labelCol=\"Calories\", predictionCol=\"prediction\", metricName=\"r2\")\n",
        "r2 = dt_evaluator.evaluate(dt_predictions)\n",
        "print(r2)"
      ],
      "metadata": {
        "colab": {
          "base_uri": "https://localhost:8080/"
        },
        "id": "iRT8H-mv6rp7",
        "outputId": "2f94a23e-d6e7-43cb-f9da-5d4f0db6602f"
      },
      "execution_count": null,
      "outputs": [
        {
          "output_type": "stream",
          "name": "stdout",
          "text": [
            "0.9717934735301474\n"
          ]
        }
      ]
    },
    {
      "cell_type": "code",
      "source": [
        "from pyspark.ml.regression import GBTRegressor\n",
        "gbt = GBTRegressor(featuresCol = 'features', labelCol = 'Calories', maxIter=50)\n",
        "gbt_model = gbt.fit(train)"
      ],
      "metadata": {
        "id": "U4Hu-XrX6tt3"
      },
      "execution_count": null,
      "outputs": []
    },
    {
      "cell_type": "code",
      "source": [
        "#Perform predictions\n",
        "gbt_predictions = gbt_model.transform(test)\n",
        "gbt_predictions.select('prediction', 'Calories', 'features').show(5)"
      ],
      "metadata": {
        "colab": {
          "base_uri": "https://localhost:8080/"
        },
        "id": "ZNAhnpsx6vxH",
        "outputId": "fdf1afe2-7378-4eb5-e5d1-242bbbe05fde"
      },
      "execution_count": null,
      "outputs": [
        {
          "output_type": "stream",
          "name": "stdout",
          "text": [
            "+-----------------+--------+--------------------+\n",
            "|       prediction|Calories|            features|\n",
            "+-----------------+--------+--------------------+\n",
            "|4.999987256717026|     0.0|      (79,[0],[1.0])|\n",
            "|4.999987256717026|     5.0|(79,[49,73,77,78]...|\n",
            "|             10.0|    30.0|(79,[62,73,75,78]...|\n",
            "|             10.0|    30.0|(79,[64,73,75,78]...|\n",
            "|             45.0|    50.0|(79,[57,73,75,77]...|\n",
            "+-----------------+--------+--------------------+\n",
            "only showing top 5 rows\n",
            "\n"
          ]
        }
      ]
    },
    {
      "cell_type": "code",
      "source": [
        "gbt_evaluator = RegressionEvaluator(\n",
        "    labelCol=\"Calories\", predictionCol=\"prediction\", metricName=\"r2\")\n",
        "r2 = gbt_evaluator.evaluate(gbt_predictions)\n",
        "print(r2)"
      ],
      "metadata": {
        "colab": {
          "base_uri": "https://localhost:8080/"
        },
        "id": "eJKfyNEm61L_",
        "outputId": "810da164-7c38-43b7-9e22-7bf3b15a9a93"
      },
      "execution_count": null,
      "outputs": [
        {
          "output_type": "stream",
          "name": "stdout",
          "text": [
            "0.971772005099819\n"
          ]
        }
      ]
    },
    {
      "cell_type": "code",
      "source": [
        "!pip install chardet"
      ],
      "metadata": {
        "colab": {
          "base_uri": "https://localhost:8080/"
        },
        "id": "IAqJfuUZ63z8",
        "outputId": "f1c0ac63-9c14-4ab3-b93e-71a5ae3e1a46"
      },
      "execution_count": null,
      "outputs": [
        {
          "output_type": "stream",
          "name": "stdout",
          "text": [
            "Requirement already satisfied: chardet in /usr/local/lib/python3.10/dist-packages (5.2.0)\n"
          ]
        }
      ]
    },
    {
      "cell_type": "code",
      "source": [
        "import chardet"
      ],
      "metadata": {
        "id": "YoJ9ccgx66-g"
      },
      "execution_count": null,
      "outputs": []
    },
    {
      "cell_type": "code",
      "source": [
        "with open('/content/sample_data/starbucks-menu-nutrition-drinks2.csv', 'rb') as f:\n",
        "    encoding = chardet.detect(f.read())['encoding']"
      ],
      "metadata": {
        "id": "XE13lunJ6_48"
      },
      "execution_count": null,
      "outputs": []
    },
    {
      "cell_type": "code",
      "source": [
        "import numpy as np\n",
        "import pandas as pd\n",
        "import matplotlib.pyplot as plt\n",
        "import seaborn as sns\n",
        "df1 = pd.read_csv('/content/sample_data/starbucks-menu-nutrition-drinks2.csv', encoding=encoding)\n",
        "df1.nunique()"
      ],
      "metadata": {
        "colab": {
          "base_uri": "https://localhost:8080/"
        },
        "id": "Ctg7Pwno7P_Q",
        "outputId": "8deb05ca-6287-47e7-9dad-819c3044f170"
      },
      "execution_count": null,
      "outputs": [
        {
          "output_type": "execute_result",
          "data": {
            "text/plain": [
              "c0           153\n",
              "Calories      30\n",
              "Fat (g)       15\n",
              "Carb (g)      34\n",
              "Fiber (g)      8\n",
              "Protein       17\n",
              "Sodium        25\n",
              "dtype: int64"
            ]
          },
          "metadata": {},
          "execution_count": 33
        }
      ]
    },
    {
      "cell_type": "code",
      "source": [
        "df1 = spark.read.csv('/content/sample_data/starbucks-menu-nutrition-drinks2.csv', header=True, inferSchema=True)"
      ],
      "metadata": {
        "id": "oWQYfZi67WPI"
      },
      "execution_count": null,
      "outputs": []
    },
    {
      "cell_type": "code",
      "source": [
        "df1 = df1.withColumn(\"Calories\", df1[\"Calories\"].cast(\"double\"))\n",
        "df1 = df1.withColumn(\"Fat (g)\", df1[\"Fat (g)\"].cast(\"double\"))\n",
        "df1 = df1.withColumn(\"Carb (g)\", df1[\"Carb (g)\"].cast(\"double\"))\n",
        "df1 = df1.withColumn(\"Fiber (g)\", df1[\"Fiber (g)\"].cast(\"double\"))\n",
        "df1 = df1.withColumn(\"Protein\", df1[\"Protein\"].cast(\"double\"))\n",
        "df1 = df1.withColumn(\"Sodium\", df1[\"Sodium\"].cast(\"double\"))"
      ],
      "metadata": {
        "id": "Eu2_ZpTX7b3s"
      },
      "execution_count": null,
      "outputs": []
    },
    {
      "cell_type": "code",
      "source": [
        "sns.barplot(x='Protein', y='Calories', data=df1.toPandas(), palette='Set1')\n",
        "plt.xticks(rotation=90)\n",
        "plt.show()\n",
        "\n",
        "sns.barplot(x='Sodium', y='Calories', data=df1.toPandas(), palette='Set2')\n",
        "plt.xticks(rotation=90)\n",
        "plt.show()"
      ],
      "metadata": {
        "colab": {
          "base_uri": "https://localhost:8080/",
          "height": 1000
        },
        "id": "FG1gGqHL7d_I",
        "outputId": "abc9e616-1e01-4ed5-d4da-7f291469a813"
      },
      "execution_count": null,
      "outputs": [
        {
          "output_type": "stream",
          "name": "stderr",
          "text": [
            "<ipython-input-59-dd99fdfdc600>:1: FutureWarning: \n",
            "\n",
            "Passing `palette` without assigning `hue` is deprecated and will be removed in v0.14.0. Assign the `x` variable to `hue` and set `legend=False` for the same effect.\n",
            "\n",
            "  sns.barplot(x='Protein', y='Calories', data=df1.toPandas(), palette='Set1')\n"
          ]
        },
        {
          "output_type": "display_data",
          "data": {
            "text/plain": [
              "<Figure size 640x480 with 1 Axes>"
            ],
            "image/png": "[encoded data removed]"
          },
          "metadata": {}
        },
        {
          "output_type": "stream",
          "name": "stderr",
          "text": [
            "<ipython-input-59-dd99fdfdc600>:5: FutureWarning: \n",
            "\n",
            "Passing `palette` without assigning `hue` is deprecated and will be removed in v0.14.0. Assign the `x` variable to `hue` and set `legend=False` for the same effect.\n",
            "\n",
            "  sns.barplot(x='Sodium', y='Calories', data=df1.toPandas(), palette='Set2')\n"
          ]
        },
        {
          "output_type": "display_data",
          "data": {
            "text/plain": [
              "<Figure size 640x480 with 1 Axes>"
            ],
            "image/png": "[encoded data removed]"
          },
          "metadata": {}
        }
      ]
    },
    {
      "cell_type": "code",
      "source": [
        "import chardet"
      ],
      "metadata": {
        "id": "6Kd_R5k67fuN"
      },
      "execution_count": null,
      "outputs": []
    },
    {
      "cell_type": "code",
      "source": [
        "with open('/content/sample_data/starbucks-menu-nutrition-drinks2.csv', 'rb') as f:\n",
        "    encoding = chardet.detect(f.read())['encoding']"
      ],
      "metadata": {
        "id": "wfWFUFPt7kq-"
      },
      "execution_count": null,
      "outputs": []
    },
    {
      "cell_type": "code",
      "source": [
        "import numpy as np\n",
        "import pandas as pd\n",
        "import matplotlib.pyplot as plt\n",
        "import seaborn as sns\n",
        "df2 = pd.read_csv('/content/sample_data/starbucks-menu-nutrition-drinks2.csv', encoding=encoding)\n",
        "df2.nunique()\n"
      ],
      "metadata": {
        "colab": {
          "base_uri": "https://localhost:8080/"
        },
        "id": "UEQo5JmB7n8Z",
        "outputId": "4eb7c691-46aa-43f5-b728-99248d56067c"
      },
      "execution_count": null,
      "outputs": [
        {
          "output_type": "execute_result",
          "data": {
            "text/plain": [
              "c0           153\n",
              "Calories      30\n",
              "Fat (g)       15\n",
              "Carb (g)      34\n",
              "Fiber (g)      8\n",
              "Protein       17\n",
              "Sodium        25\n",
              "dtype: int64"
            ]
          },
          "metadata": {},
          "execution_count": 39
        }
      ]
    },
    {
      "cell_type": "code",
      "source": [
        "correlation_matrix = df2.corr()"
      ],
      "metadata": {
        "colab": {
          "base_uri": "https://localhost:8080/"
        },
        "id": "qW63Yovw7s_W",
        "outputId": "d3e5d2ed-e623-4e96-f675-dd354f1cb32a"
      },
      "execution_count": null,
      "outputs": [
        {
          "output_type": "stream",
          "name": "stderr",
          "text": [
            "<ipython-input-40-15450d8dcb01>:1: FutureWarning: The default value of numeric_only in DataFrame.corr is deprecated. In a future version, it will default to False. Select only valid columns or specify the value of numeric_only to silence this warning.\n",
            "  correlation_matrix = df2.corr()\n"
          ]
        }
      ]
    },
    {
      "cell_type": "code",
      "source": [
        "import seaborn as sns\n",
        "import matplotlib.pyplot as plt\n",
        "\n",
        "# Assuming df1 is your DataFrame containing 'Protein' and 'Fat (g)' columns\n",
        "\n",
        "# Check for NaN values and drop them\n",
        "df2 = df2.dropna(subset=['Protein', 'Fat (g)'])\n",
        "\n",
        "import seaborn as sns\n",
        "import matplotlib.pyplot as plt\n",
        "import pandas as pd\n",
        "\n",
        "# Collect data from PySpark DataFrame and convert to Pandas DataFrame\n",
        "df_pd = df1.collect()\n",
        "df_pd = pd.DataFrame(df_pd, columns=df1.columns)\n",
        "\n",
        "# Plot using Seaborn with the Pandas DataFrame\n",
        "sns.barplot(x='Protein', y='Fat (g)', data=df_pd, palette='Set3')\n",
        "plt.xticks(rotation=90)\n",
        "plt.xlabel('Protein')\n",
        "plt.ylabel('Fat (g)')\n",
        "plt.title('Bar Plot of Protein vs Fat (g)')\n",
        "plt.show()\n",
        "\n"
      ],
      "metadata": {
        "colab": {
          "base_uri": "https://localhost:8080/",
          "height": 576
        },
        "id": "IbIcfasl7v01",
        "outputId": "b71f7ded-f016-4ac6-d459-31537ee5097e"
      },
      "execution_count": null,
      "outputs": [
        {
          "output_type": "stream",
          "name": "stderr",
          "text": [
            "<ipython-input-60-732c28ee75bf>:18: FutureWarning: \n",
            "\n",
            "Passing `palette` without assigning `hue` is deprecated and will be removed in v0.14.0. Assign the `x` variable to `hue` and set `legend=False` for the same effect.\n",
            "\n",
            "  sns.barplot(x='Protein', y='Fat (g)', data=df_pd, palette='Set3')\n"
          ]
        },
        {
          "output_type": "display_data",
          "data": {
            "text/plain": [
              "<Figure size 640x480 with 1 Axes>"
            ],
            "image/png": "[encoded data removed]"
          },
          "metadata": {}
        }
      ]
    },
    {
      "cell_type": "code",
      "source": [
        "df_pd = df1.toPandas()\n",
        "\n",
        "# Create a heatmap\n",
        "plt.figure(figsize=(10, 8))\n",
        "sns.heatmap(df_pd.corr(), annot=True, cmap='mako', fmt=\".2f\", linewidths=.5)\n",
        "plt.title('Correlation Heatmap')\n",
        "plt.show()"
      ],
      "metadata": {
        "colab": {
          "base_uri": "https://localhost:8080/",
          "height": 754
        },
        "id": "XBu1YZwO7z24",
        "outputId": "c92cda34-0b7a-454b-93d8-7c997c3f65b5"
      },
      "execution_count": null,
      "outputs": [
        {
          "output_type": "stream",
          "name": "stderr",
          "text": [
            "<ipython-input-66-3df70bd13125>:5: FutureWarning: The default value of numeric_only in DataFrame.corr is deprecated. In a future version, it will default to False. Select only valid columns or specify the value of numeric_only to silence this warning.\n",
            "  sns.heatmap(df_pd.corr(), annot=True, cmap='mako', fmt=\".2f\", linewidths=.5)\n"
          ]
        },
        {
          "output_type": "display_data",
          "data": {
            "text/plain": [
              "<Figure size 1000x800 with 2 Axes>"
            ],
            "image/png": "[encoded data removed]"
          },
          "metadata": {}
        }
      ]
    },
    {
      "cell_type": "code",
      "source": [],
      "metadata": {
        "id": "JzONlIgPQF7Y"
      },
      "execution_count": null,
      "outputs": []
    }
  ]
}